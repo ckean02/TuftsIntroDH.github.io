{
 "cells": [
  {
   "cell_type": "code",
   "execution_count": 1,
   "id": "10c41abc",
   "metadata": {},
   "outputs": [
    {
     "name": "stdout",
     "output_type": "stream",
     "text": [
      "hello world\n"
     ]
    }
   ],
   "source": [
    "print(\"hello world\")"
   ]
  },
  {
   "cell_type": "code",
   "execution_count": null,
   "id": "12a2de18",
   "metadata": {},
   "outputs": [],
   "source": [
    "def greet_user(username:str):\n",
    "    \"\"\"Display a simple greeting.\"\"\"\n",
    "    return f\"Hello, {username}!\" #intercalating\n",
    "\n",
    "#have to call with one argument, return value instead of printed string, can use in other functions\n"
   ]
  },
  {
   "cell_type": "code",
   "execution_count": null,
   "id": "8b2ce278",
   "metadata": {},
   "outputs": [],
   "source": [
    "def print_user_greeting(username: str):\n",
    "    print(greet_user(username)) #print \"Hello, Charles\"\n",
    "    \n",
    "    #functions are evaluated inside out"
   ]
  },
  {
   "cell_type": "code",
   "execution_count": 12,
   "id": "d8bc85c4",
   "metadata": {},
   "outputs": [],
   "source": [
    "def print_return(username: str):\n",
    "    print(print_user_greeting(username))"
   ]
  },
  {
   "cell_type": "code",
   "execution_count": 14,
   "id": "97f5c079",
   "metadata": {},
   "outputs": [
    {
     "name": "stdout",
     "output_type": "stream",
     "text": [
      "Hello, Catie!\n",
      "None\n"
     ]
    }
   ],
   "source": [
    "print_return(\"Catie\")"
   ]
  },
  {
   "cell_type": "code",
   "execution_count": 13,
   "id": "cec3bdfd",
   "metadata": {},
   "outputs": [
    {
     "name": "stdout",
     "output_type": "stream",
     "text": [
      "Hello, Catie!\n"
     ]
    }
   ],
   "source": [
    "print_user_greeting(\"Catie\")"
   ]
  },
  {
   "cell_type": "code",
   "execution_count": 8,
   "id": "e1c0b45a",
   "metadata": {},
   "outputs": [
    {
     "data": {
      "text/plain": [
       "'Hello, Catie!'"
      ]
     },
     "execution_count": 8,
     "metadata": {},
     "output_type": "execute_result"
    }
   ],
   "source": [
    "greet_user(\"Catie\")"
   ]
  },
  {
   "cell_type": "code",
   "execution_count": 20,
   "id": "2628d25a",
   "metadata": {},
   "outputs": [],
   "source": [
    "def describe_pet(animal_type: str, pet_name: str):\n",
    "    return f\"My {animal_type} is {pet_name.title()}.\""
   ]
  },
  {
   "cell_type": "code",
   "execution_count": 21,
   "id": "88e79391",
   "metadata": {},
   "outputs": [
    {
     "data": {
      "text/plain": [
       "'My dog is Lila.'"
      ]
     },
     "execution_count": 21,
     "metadata": {},
     "output_type": "execute_result"
    }
   ],
   "source": [
    "describe_pet(\"dog\", \"Lila\")"
   ]
  }
 ],
 "metadata": {
  "kernelspec": {
   "display_name": "Python 3",
   "language": "python",
   "name": "python3"
  },
  "language_info": {
   "codemirror_mode": {
    "name": "ipython",
    "version": 3
   },
   "file_extension": ".py",
   "mimetype": "text/x-python",
   "name": "python",
   "nbconvert_exporter": "python",
   "pygments_lexer": "ipython3",
   "version": "3.12.1"
  }
 },
 "nbformat": 4,
 "nbformat_minor": 5
}
